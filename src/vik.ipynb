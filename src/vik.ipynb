{
 "cells": [
  {
   "cell_type": "code",
   "execution_count": 7,
   "id": "initial_id",
   "metadata": {
    "collapsed": true,
    "ExecuteTime": {
     "end_time": "2024-10-19T09:24:16.997778734Z",
     "start_time": "2024-10-19T09:24:16.828563669Z"
    }
   },
   "outputs": [
    {
     "name": "stdout",
     "output_type": "stream",
     "text": [
      "The autoreload extension is already loaded. To reload it, use:\n",
      "  %reload_ext autoreload\n"
     ]
    }
   ],
   "source": [
    "import numpy as np\n",
    "%load_ext autoreload\n",
    "%autoreload 2\n",
    "\n",
    "from matplotlib import pyplot as plt\n",
    "\n",
    "from src.dataset import *\n",
    "from src.lp import *"
   ]
  },
  {
   "cell_type": "code",
   "outputs": [],
   "source": [
    "def plot_consumption(end=24*90, start=0):\n",
    "    plt.plot(range(end-start), lp.P[start:end], label=\"real\")\n",
    "    plt.plot(np.sum(result.P[:, start:end], axis=0), label=\"LP\")\n",
    "    plt.plot([sum(lp.p_max)] * (end-start), label=\"p_max\")\n",
    "    plt.legend()\n",
    "\n",
    "def plot_load(end=24*7, start=0):\n",
    "    for n in range(result.load.shape[0]):\n",
    "        data = result.load[n, start:end]\n",
    "        plt.plot(range((end-start)), data, label=\"PEM\" if n < PEM_amount else \"AWE\")\n",
    "    plt.legend()"
   ],
   "metadata": {
    "collapsed": false,
    "ExecuteTime": {
     "end_time": "2024-10-19T09:24:17.043418633Z",
     "start_time": "2024-10-19T09:24:16.998069986Z"
    }
   },
   "id": "1d1e604262489f5a",
   "execution_count": 8
  },
  {
   "cell_type": "code",
   "outputs": [],
   "source": [
    "dataset = Dataset.load(\"../data/Timeseries_33.153_-100.213_E5_200000kWp_crystSi_14_33deg_-3deg_2013_2023.csv\")"
   ],
   "metadata": {
    "collapsed": false,
    "ExecuteTime": {
     "end_time": "2024-10-19T09:24:17.453518446Z",
     "start_time": "2024-10-19T09:24:17.035581392Z"
    }
   },
   "id": "55e1a2df5d11499f",
   "execution_count": 9
  },
  {
   "cell_type": "code",
   "outputs": [],
   "source": [
    "PEM_amount = 10\n",
    "AWE_amount = 10\n",
    "lp = LP(dataset.data_power[:90*24], PEM_amount, AWE_amount, 3000)\n",
    "lp.solve()"
   ],
   "metadata": {
    "collapsed": false,
    "is_executing": true,
    "ExecuteTime": {
     "start_time": "2024-10-19T09:24:17.456341355Z"
    }
   },
   "id": "a720e31d7cc9da5d",
   "execution_count": null
  },
  {
   "cell_type": "code",
   "outputs": [],
   "source": [
    "result = lp.get_result()\n",
    "print(result)\n",
    "plot_consumption(24*20)"
   ],
   "metadata": {
    "collapsed": false,
    "is_executing": true
   },
   "id": "e95e69ad294e77f2",
   "execution_count": null
  },
  {
   "cell_type": "code",
   "outputs": [],
   "source": [
    "plt.plot(result.P_avg)"
   ],
   "metadata": {
    "collapsed": false,
    "is_executing": true
   },
   "id": "9ced263c0b8c8fa7",
   "execution_count": null
  },
  {
   "cell_type": "code",
   "outputs": [],
   "source": [
    "np.where(np.sum(result.P, axis=0) > lp.P)"
   ],
   "metadata": {
    "collapsed": false,
    "is_executing": true
   },
   "id": "97a98ad272e4b71b",
   "execution_count": null
  }
 ],
 "metadata": {
  "kernelspec": {
   "display_name": "Python 3",
   "language": "python",
   "name": "python3"
  },
  "language_info": {
   "codemirror_mode": {
    "name": "ipython",
    "version": 2
   },
   "file_extension": ".py",
   "mimetype": "text/x-python",
   "name": "python",
   "nbconvert_exporter": "python",
   "pygments_lexer": "ipython2",
   "version": "2.7.6"
  }
 },
 "nbformat": 4,
 "nbformat_minor": 5
}
